{
 "cells": [
  {
   "cell_type": "code",
   "execution_count": 1,
   "metadata": {},
   "outputs": [],
   "source": [
    "import matplotlib.pyplot as plt\n",
    "import pandas as pd\n",
    "import seaborn as sns\n",
    "sns.set_theme(style=\"whitegrid\")"
   ]
  },
  {
   "cell_type": "markdown",
   "metadata": {},
   "source": [
    "### Initial Experiment"
   ]
  },
  {
   "cell_type": "code",
   "execution_count": 8,
   "metadata": {},
   "outputs": [],
   "source": [
    "RANDOM_PATH = \"metrics-Random-agents-10-passengers-25.csv\"\n",
    "PATH_PLANNER_PATH = \"metrics-PathPlanner-agents-10-passengers-25.csv\"\n",
    "QUADRANTS_PATH = \"metrics-QuadrantsSocialConventions-agents-10-passengers-25.csv\"\n",
    "IDS_SOCIAL_CONV_PATH = \"metrics-IDsSocialConventions-agents-10-passengers-25.csv\"\n",
    "ROLES_PATH = \"metrics-Roles-agents-10-passengers-25.csv\"\n",
    "\n",
    "save = False"
   ]
  },
  {
   "cell_type": "code",
   "execution_count": 3,
   "metadata": {},
   "outputs": [],
   "source": [
    "random_data = pd.read_csv(RANDOM_PATH)\n",
    "random_data[\"agent\"] = \"Random\"\n",
    "path_planner_data = pd.read_csv(PATH_PLANNER_PATH)\n",
    "path_planner_data[\"agent\"] = \"Path Planner\"\n",
    "quadrants_data = pd.read_csv(QUADRANTS_PATH)\n",
    "quadrants_data[\"agent\"] = \"Quadrants\"\n",
    "ids_social_conv_data = pd.read_csv(IDS_SOCIAL_CONV_PATH)\n",
    "ids_social_conv_data[\"agent\"] = \"Ids\"\n",
    "roles_social_data = pd.read_csv(ROLES_PATH)\n",
    "roles_social_data[\"agent\"] = \"Roles\""
   ]
  },
  {
   "cell_type": "code",
   "execution_count": 4,
   "metadata": {},
   "outputs": [
    {
     "data": {
      "text/html": [
       "<div>\n",
       "<style scoped>\n",
       "    .dataframe tbody tr th:only-of-type {\n",
       "        vertical-align: middle;\n",
       "    }\n",
       "\n",
       "    .dataframe tbody tr th {\n",
       "        vertical-align: top;\n",
       "    }\n",
       "\n",
       "    .dataframe thead th {\n",
       "        text-align: right;\n",
       "    }\n",
       "</style>\n",
       "<table border=\"1\" class=\"dataframe\">\n",
       "  <thead>\n",
       "    <tr style=\"text-align: right;\">\n",
       "      <th></th>\n",
       "      <th>taxi_distance</th>\n",
       "      <th>pick_up_time</th>\n",
       "      <th>drop_off_time</th>\n",
       "      <th>n_delivered</th>\n",
       "      <th>n_steps</th>\n",
       "      <th>agent</th>\n",
       "      <th>travel_time</th>\n",
       "    </tr>\n",
       "  </thead>\n",
       "  <tbody>\n",
       "    <tr>\n",
       "      <th>0</th>\n",
       "      <td>83.8</td>\n",
       "      <td>128.80</td>\n",
       "      <td>16.20</td>\n",
       "      <td>1</td>\n",
       "      <td>150</td>\n",
       "      <td>Random</td>\n",
       "      <td>145.00</td>\n",
       "    </tr>\n",
       "    <tr>\n",
       "      <th>1</th>\n",
       "      <td>82.5</td>\n",
       "      <td>132.48</td>\n",
       "      <td>12.28</td>\n",
       "      <td>1</td>\n",
       "      <td>150</td>\n",
       "      <td>Random</td>\n",
       "      <td>144.76</td>\n",
       "    </tr>\n",
       "    <tr>\n",
       "      <th>2</th>\n",
       "      <td>89.7</td>\n",
       "      <td>136.60</td>\n",
       "      <td>13.40</td>\n",
       "      <td>0</td>\n",
       "      <td>150</td>\n",
       "      <td>Random</td>\n",
       "      <td>150.00</td>\n",
       "    </tr>\n",
       "    <tr>\n",
       "      <th>3</th>\n",
       "      <td>85.2</td>\n",
       "      <td>133.84</td>\n",
       "      <td>15.64</td>\n",
       "      <td>1</td>\n",
       "      <td>150</td>\n",
       "      <td>Random</td>\n",
       "      <td>149.48</td>\n",
       "    </tr>\n",
       "    <tr>\n",
       "      <th>4</th>\n",
       "      <td>87.1</td>\n",
       "      <td>136.56</td>\n",
       "      <td>13.44</td>\n",
       "      <td>0</td>\n",
       "      <td>150</td>\n",
       "      <td>Random</td>\n",
       "      <td>150.00</td>\n",
       "    </tr>\n",
       "    <tr>\n",
       "      <th>...</th>\n",
       "      <td>...</td>\n",
       "      <td>...</td>\n",
       "      <td>...</td>\n",
       "      <td>...</td>\n",
       "      <td>...</td>\n",
       "      <td>...</td>\n",
       "      <td>...</td>\n",
       "    </tr>\n",
       "    <tr>\n",
       "      <th>495</th>\n",
       "      <td>29.0</td>\n",
       "      <td>13.64</td>\n",
       "      <td>8.36</td>\n",
       "      <td>25</td>\n",
       "      <td>40</td>\n",
       "      <td>Roles</td>\n",
       "      <td>22.00</td>\n",
       "    </tr>\n",
       "    <tr>\n",
       "      <th>496</th>\n",
       "      <td>33.9</td>\n",
       "      <td>15.36</td>\n",
       "      <td>9.72</td>\n",
       "      <td>25</td>\n",
       "      <td>53</td>\n",
       "      <td>Roles</td>\n",
       "      <td>25.08</td>\n",
       "    </tr>\n",
       "    <tr>\n",
       "      <th>497</th>\n",
       "      <td>30.8</td>\n",
       "      <td>13.52</td>\n",
       "      <td>9.36</td>\n",
       "      <td>25</td>\n",
       "      <td>46</td>\n",
       "      <td>Roles</td>\n",
       "      <td>22.88</td>\n",
       "    </tr>\n",
       "    <tr>\n",
       "      <th>498</th>\n",
       "      <td>31.5</td>\n",
       "      <td>14.80</td>\n",
       "      <td>9.12</td>\n",
       "      <td>25</td>\n",
       "      <td>43</td>\n",
       "      <td>Roles</td>\n",
       "      <td>23.92</td>\n",
       "    </tr>\n",
       "    <tr>\n",
       "      <th>499</th>\n",
       "      <td>27.8</td>\n",
       "      <td>12.96</td>\n",
       "      <td>7.52</td>\n",
       "      <td>25</td>\n",
       "      <td>40</td>\n",
       "      <td>Roles</td>\n",
       "      <td>20.48</td>\n",
       "    </tr>\n",
       "  </tbody>\n",
       "</table>\n",
       "<p>500 rows × 7 columns</p>\n",
       "</div>"
      ],
      "text/plain": [
       "     taxi_distance  pick_up_time  drop_off_time  n_delivered  n_steps   agent  \\\n",
       "0             83.8        128.80          16.20            1      150  Random   \n",
       "1             82.5        132.48          12.28            1      150  Random   \n",
       "2             89.7        136.60          13.40            0      150  Random   \n",
       "3             85.2        133.84          15.64            1      150  Random   \n",
       "4             87.1        136.56          13.44            0      150  Random   \n",
       "..             ...           ...            ...          ...      ...     ...   \n",
       "495           29.0         13.64           8.36           25       40   Roles   \n",
       "496           33.9         15.36           9.72           25       53   Roles   \n",
       "497           30.8         13.52           9.36           25       46   Roles   \n",
       "498           31.5         14.80           9.12           25       43   Roles   \n",
       "499           27.8         12.96           7.52           25       40   Roles   \n",
       "\n",
       "     travel_time  \n",
       "0         145.00  \n",
       "1         144.76  \n",
       "2         150.00  \n",
       "3         149.48  \n",
       "4         150.00  \n",
       "..           ...  \n",
       "495        22.00  \n",
       "496        25.08  \n",
       "497        22.88  \n",
       "498        23.92  \n",
       "499        20.48  \n",
       "\n",
       "[500 rows x 7 columns]"
      ]
     },
     "execution_count": 4,
     "metadata": {},
     "output_type": "execute_result"
    }
   ],
   "source": [
    "full_data = pd.concat((random_data, path_planner_data, quadrants_data, ids_social_conv_data, roles_social_data), ignore_index=True)\n",
    "full_data[\"travel_time\"] = full_data[\"pick_up_time\"] + full_data[\"drop_off_time\"]\n",
    "full_data"
   ]
  },
  {
   "cell_type": "code",
   "execution_count": 5,
   "metadata": {},
   "outputs": [
    {
     "data": {
      "image/png": "[encoded data removed]",
      "text/plain": [
       "<Figure size 432x288 with 1 Axes>"
      ]
     },
     "metadata": {
      "needs_background": "light"
     },
     "output_type": "display_data"
    }
   ],
   "source": [
    "ax = plt.gca()\n",
    "sns.barplot(x=\"agent\", y=\"n_delivered\", ci=95, data=full_data, ax=ax)\n",
    "ax.set_title(\"Number of delivered passengers by Agent Architecture\")\n",
    "ax.set_xlabel(\"Agent Architecture\")\n",
    "ax.set_ylabel(\"Number of delivered passengers\")\n",
    "if save:\n",
    "    plt.savefig(\"n_delivered_10_25.pdf\")"
   ]
  },
  {
   "cell_type": "code",
   "execution_count": 6,
   "metadata": {},
   "outputs": [
    {
     "data": {
      "image/png": "[encoded data removed]",
      "text/plain": [
       "<Figure size 432x288 with 1 Axes>"
      ]
     },
     "metadata": {
      "needs_background": "light"
     },
     "output_type": "display_data"
    }
   ],
   "source": [
    "ax = plt.gca()\n",
    "sns.barplot(x=\"agent\", y=\"n_steps\", ci=95, data=full_data, ax=ax)\n",
    "ax.set_title(\"Number of Steps to deliver all passengers by Agent Architecture\")\n",
    "ax.set_xlabel(\"Agent Architecture\")\n",
    "ax.set_ylabel(\"Number of Steps\")\n",
    "\n",
    "if save:\n",
    "    plt.savefig(\"n_steps_10_25.pdf\")"
   ]
  },
  {
   "cell_type": "code",
   "execution_count": 7,
   "metadata": {},
   "outputs": [
    {
     "data": {
      "image/png": "[encoded data removed]",
      "text/plain": [
       "<Figure size 432x288 with 1 Axes>"
      ]
     },
     "metadata": {
      "needs_background": "light"
     },
     "output_type": "display_data"
    }
   ],
   "source": [
    "ax = plt.gca()\n",
    "sns.barplot(x=\"agent\", y=\"taxi_distance\", ci=95, data=full_data, ax=ax)\n",
    "ax.set_title(\"Total Taxi Distance by Agent Architecture\")\n",
    "ax.set_xlabel(\"Agent Architecture\")\n",
    "ax.set_ylabel(\"Taxi Distance\")\n",
    "\n",
    "if save:\n",
    "    plt.savefig(\"taxi_distance_10_25.pdf\")"
   ]
  },
  {
   "cell_type": "code",
   "execution_count": 19,
   "metadata": {},
   "outputs": [
    {
     "data": {
      "image/png": "[encoded data removed]",
      "text/plain": [
       "<Figure size 432x288 with 1 Axes>"
      ]
     },
     "metadata": {
      "needs_background": "light"
     },
     "output_type": "display_data"
    }
   ],
   "source": [
    "ax = plt.gca()\n",
    "sns.barplot(x=\"agent\", y=\"pick_up_time\", ci=95, data=full_data, ax=ax)\n",
    "ax.set_title(\"Average Pick-Up Time by Agent Architecture\")\n",
    "ax.set_xlabel(\"Agent Architecture\")\n",
    "ax.set_ylabel(\"Pick Up Time\")\n",
    "\n",
    "if save:\n",
    "    plt.savefig(\"pick_up_10_25.pdf\")"
   ]
  },
  {
   "cell_type": "code",
   "execution_count": 20,
   "metadata": {},
   "outputs": [
    {
     "data": {
      "image/png": "[encoded data removed]",
      "text/plain": [
       "<Figure size 432x288 with 1 Axes>"
      ]
     },
     "metadata": {
      "needs_background": "light"
     },
     "output_type": "display_data"
    }
   ],
   "source": [
    "ax = plt.gca()\n",
    "sns.barplot(x=\"agent\", y=\"drop_off_time\", ci=95, data=full_data, ax=ax)\n",
    "ax.set_title(\"Average Drop-Off Time by Agent Architecture\")\n",
    "ax.set_xlabel(\"Agent Architecture\")\n",
    "ax.set_ylabel(\"Drop Off Time\")\n",
    "\n",
    "if save:\n",
    "    plt.savefig(\"drop_off_10_25.pdf\")"
   ]
  },
  {
   "cell_type": "code",
   "execution_count": null,
   "metadata": {},
   "outputs": [],
   "source": []
  }
 ],
 "metadata": {
  "kernelspec": {
   "display_name": "Python 3 (ipykernel)",
   "language": "python",
   "name": "python3"
  },
  "language_info": {
   "codemirror_mode": {
    "name": "ipython",
    "version": 3
   },
   "file_extension": ".py",
   "mimetype": "text/x-python",
   "name": "python",
   "nbconvert_exporter": "python",
   "pygments_lexer": "ipython3",
   "version": "3.8.9"
  },
  "vscode": {
   "interpreter": {
    "hash": "decb7ac69e1d517a31a591fe3d24ff79d0b539c269c4fb92bbe12203a19923a1"
   }
  }
 },
 "nbformat": 4,
 "nbformat_minor": 2
}
