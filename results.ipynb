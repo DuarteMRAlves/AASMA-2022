{
 "cells": [
  {
   "cell_type": "code",
   "execution_count": 82,
   "metadata": {},
   "outputs": [],
   "source": [
    "import matplotlib.pyplot as plt\n",
    "import pandas as pd\n",
    "import seaborn as sns\n",
    "sns.set_theme(style=\"whitegrid\")"
   ]
  },
  {
   "cell_type": "code",
   "execution_count": 83,
   "metadata": {},
   "outputs": [],
   "source": [
    "RANDOM_PATH = \"metrics-Random-agents-8-passengers-20.csv\"\n",
    "PATH_PLANNER_PATH = \"metrics-PathPlanner-agents-15-passengers-15.csv\"\n",
    "QUADRANTS_PATH = \"metrics-QuadrantsSocialConventions-agents-8-passengers-20.csv\"\n",
    "IDS_SOCIAL_CONV_PATH = \"metrics-IDsSocialConventions-agents-8-passengers-20.csv\"\n",
    "ROLES_PATH = \"metrics-Roles-agents-15-passengers-15.csv\"\n",
    "\n",
    "save = False"
   ]
  },
  {
   "cell_type": "code",
   "execution_count": 84,
   "metadata": {},
   "outputs": [],
   "source": [
    "#random_data = pd.read_csv(RANDOM_PATH)\n",
    "#random_data[\"agent\"] = \"Random\"\n",
    "path_planner_data = pd.read_csv(PATH_PLANNER_PATH)\n",
    "path_planner_data[\"agent\"] = \"Path Planner\"\n",
    "#quadrants_data = pd.read_csv(QUADRANTS_PATH)\n",
    "#quadrants_data[\"agent\"] = \"Quadrants\"\n",
    "#ids_social_conv_data = pd.read_csv(IDS_SOCIAL_CONV_PATH)\n",
    "#ids_social_conv_data[\"agent\"] = \"Ids\"\n",
    "roles_social_data = pd.read_csv(ROLES_PATH)\n",
    "roles_social_data[\"agent\"] = \"Roles\""
   ]
  },
  {
   "cell_type": "code",
   "execution_count": 85,
   "metadata": {},
   "outputs": [
    {
     "data": {
      "text/html": [
       "<div>\n",
       "<style scoped>\n",
       "    .dataframe tbody tr th:only-of-type {\n",
       "        vertical-align: middle;\n",
       "    }\n",
       "\n",
       "    .dataframe tbody tr th {\n",
       "        vertical-align: top;\n",
       "    }\n",
       "\n",
       "    .dataframe thead th {\n",
       "        text-align: right;\n",
       "    }\n",
       "</style>\n",
       "<table border=\"1\" class=\"dataframe\">\n",
       "  <thead>\n",
       "    <tr style=\"text-align: right;\">\n",
       "      <th></th>\n",
       "      <th>taxi_distance</th>\n",
       "      <th>pick_up_time</th>\n",
       "      <th>drop_off_time</th>\n",
       "      <th>n_delivered</th>\n",
       "      <th>n_steps</th>\n",
       "      <th>agent</th>\n",
       "      <th>travel_time</th>\n",
       "    </tr>\n",
       "  </thead>\n",
       "  <tbody>\n",
       "    <tr>\n",
       "      <th>0</th>\n",
       "      <td>12.466667</td>\n",
       "      <td>3.733333</td>\n",
       "      <td>8.600000</td>\n",
       "      <td>15</td>\n",
       "      <td>27</td>\n",
       "      <td>Path Planner</td>\n",
       "      <td>12.333333</td>\n",
       "    </tr>\n",
       "    <tr>\n",
       "      <th>1</th>\n",
       "      <td>13.933333</td>\n",
       "      <td>3.866667</td>\n",
       "      <td>8.933333</td>\n",
       "      <td>15</td>\n",
       "      <td>30</td>\n",
       "      <td>Path Planner</td>\n",
       "      <td>12.800000</td>\n",
       "    </tr>\n",
       "    <tr>\n",
       "      <th>2</th>\n",
       "      <td>13.600000</td>\n",
       "      <td>3.133333</td>\n",
       "      <td>8.866667</td>\n",
       "      <td>15</td>\n",
       "      <td>32</td>\n",
       "      <td>Path Planner</td>\n",
       "      <td>12.000000</td>\n",
       "    </tr>\n",
       "    <tr>\n",
       "      <th>3</th>\n",
       "      <td>13.800000</td>\n",
       "      <td>3.533333</td>\n",
       "      <td>8.466667</td>\n",
       "      <td>15</td>\n",
       "      <td>23</td>\n",
       "      <td>Path Planner</td>\n",
       "      <td>12.000000</td>\n",
       "    </tr>\n",
       "    <tr>\n",
       "      <th>4</th>\n",
       "      <td>13.400000</td>\n",
       "      <td>4.000000</td>\n",
       "      <td>8.733333</td>\n",
       "      <td>15</td>\n",
       "      <td>26</td>\n",
       "      <td>Path Planner</td>\n",
       "      <td>12.733333</td>\n",
       "    </tr>\n",
       "    <tr>\n",
       "      <th>...</th>\n",
       "      <td>...</td>\n",
       "      <td>...</td>\n",
       "      <td>...</td>\n",
       "      <td>...</td>\n",
       "      <td>...</td>\n",
       "      <td>...</td>\n",
       "      <td>...</td>\n",
       "    </tr>\n",
       "    <tr>\n",
       "      <th>195</th>\n",
       "      <td>9.533333</td>\n",
       "      <td>2.266667</td>\n",
       "      <td>8.266667</td>\n",
       "      <td>15</td>\n",
       "      <td>23</td>\n",
       "      <td>Roles</td>\n",
       "      <td>10.533333</td>\n",
       "    </tr>\n",
       "    <tr>\n",
       "      <th>196</th>\n",
       "      <td>10.733333</td>\n",
       "      <td>2.733333</td>\n",
       "      <td>9.000000</td>\n",
       "      <td>15</td>\n",
       "      <td>25</td>\n",
       "      <td>Roles</td>\n",
       "      <td>11.733333</td>\n",
       "    </tr>\n",
       "    <tr>\n",
       "      <th>197</th>\n",
       "      <td>11.000000</td>\n",
       "      <td>2.533333</td>\n",
       "      <td>9.466667</td>\n",
       "      <td>15</td>\n",
       "      <td>21</td>\n",
       "      <td>Roles</td>\n",
       "      <td>12.000000</td>\n",
       "    </tr>\n",
       "    <tr>\n",
       "      <th>198</th>\n",
       "      <td>11.400000</td>\n",
       "      <td>3.266667</td>\n",
       "      <td>9.133333</td>\n",
       "      <td>15</td>\n",
       "      <td>33</td>\n",
       "      <td>Roles</td>\n",
       "      <td>12.400000</td>\n",
       "    </tr>\n",
       "    <tr>\n",
       "      <th>199</th>\n",
       "      <td>8.933333</td>\n",
       "      <td>2.266667</td>\n",
       "      <td>7.666667</td>\n",
       "      <td>15</td>\n",
       "      <td>24</td>\n",
       "      <td>Roles</td>\n",
       "      <td>9.933333</td>\n",
       "    </tr>\n",
       "  </tbody>\n",
       "</table>\n",
       "<p>200 rows × 7 columns</p>\n",
       "</div>"
      ],
      "text/plain": [
       "     taxi_distance  pick_up_time  drop_off_time  n_delivered  n_steps  \\\n",
       "0        12.466667      3.733333       8.600000           15       27   \n",
       "1        13.933333      3.866667       8.933333           15       30   \n",
       "2        13.600000      3.133333       8.866667           15       32   \n",
       "3        13.800000      3.533333       8.466667           15       23   \n",
       "4        13.400000      4.000000       8.733333           15       26   \n",
       "..             ...           ...            ...          ...      ...   \n",
       "195       9.533333      2.266667       8.266667           15       23   \n",
       "196      10.733333      2.733333       9.000000           15       25   \n",
       "197      11.000000      2.533333       9.466667           15       21   \n",
       "198      11.400000      3.266667       9.133333           15       33   \n",
       "199       8.933333      2.266667       7.666667           15       24   \n",
       "\n",
       "            agent  travel_time  \n",
       "0    Path Planner    12.333333  \n",
       "1    Path Planner    12.800000  \n",
       "2    Path Planner    12.000000  \n",
       "3    Path Planner    12.000000  \n",
       "4    Path Planner    12.733333  \n",
       "..            ...          ...  \n",
       "195         Roles    10.533333  \n",
       "196         Roles    11.733333  \n",
       "197         Roles    12.000000  \n",
       "198         Roles    12.400000  \n",
       "199         Roles     9.933333  \n",
       "\n",
       "[200 rows x 7 columns]"
      ]
     },
     "execution_count": 85,
     "metadata": {},
     "output_type": "execute_result"
    }
   ],
   "source": [
    "#full_data = pd.concat((random_data, path_planner_data, quadrants_data, ids_social_conv_data, roles_social_data), ignore_index=True)\n",
    "full_data = pd.concat((path_planner_data, roles_social_data), ignore_index=True)\n",
    "full_data[\"travel_time\"] = full_data[\"pick_up_time\"] + full_data[\"drop_off_time\"]\n",
    "full_data"
   ]
  },
  {
   "cell_type": "code",
   "execution_count": 86,
   "metadata": {},
   "outputs": [
    {
     "data": {
      "text/html": [
       "<div>\n",
       "<style scoped>\n",
       "    .dataframe tbody tr th:only-of-type {\n",
       "        vertical-align: middle;\n",
       "    }\n",
       "\n",
       "    .dataframe tbody tr th {\n",
       "        vertical-align: top;\n",
       "    }\n",
       "\n",
       "    .dataframe thead th {\n",
       "        text-align: right;\n",
       "    }\n",
       "</style>\n",
       "<table border=\"1\" class=\"dataframe\">\n",
       "  <thead>\n",
       "    <tr style=\"text-align: right;\">\n",
       "      <th></th>\n",
       "      <th>taxi_distance</th>\n",
       "      <th>pick_up_time</th>\n",
       "      <th>drop_off_time</th>\n",
       "      <th>n_delivered</th>\n",
       "      <th>n_steps</th>\n",
       "      <th>agent</th>\n",
       "      <th>travel_time</th>\n",
       "    </tr>\n",
       "  </thead>\n",
       "  <tbody>\n",
       "    <tr>\n",
       "      <th>0</th>\n",
       "      <td>12.466667</td>\n",
       "      <td>3.733333</td>\n",
       "      <td>8.600000</td>\n",
       "      <td>15</td>\n",
       "      <td>27</td>\n",
       "      <td>Path Planner</td>\n",
       "      <td>12.333333</td>\n",
       "    </tr>\n",
       "    <tr>\n",
       "      <th>1</th>\n",
       "      <td>13.933333</td>\n",
       "      <td>3.866667</td>\n",
       "      <td>8.933333</td>\n",
       "      <td>15</td>\n",
       "      <td>30</td>\n",
       "      <td>Path Planner</td>\n",
       "      <td>12.800000</td>\n",
       "    </tr>\n",
       "    <tr>\n",
       "      <th>2</th>\n",
       "      <td>13.600000</td>\n",
       "      <td>3.133333</td>\n",
       "      <td>8.866667</td>\n",
       "      <td>15</td>\n",
       "      <td>32</td>\n",
       "      <td>Path Planner</td>\n",
       "      <td>12.000000</td>\n",
       "    </tr>\n",
       "    <tr>\n",
       "      <th>3</th>\n",
       "      <td>13.800000</td>\n",
       "      <td>3.533333</td>\n",
       "      <td>8.466667</td>\n",
       "      <td>15</td>\n",
       "      <td>23</td>\n",
       "      <td>Path Planner</td>\n",
       "      <td>12.000000</td>\n",
       "    </tr>\n",
       "    <tr>\n",
       "      <th>4</th>\n",
       "      <td>13.400000</td>\n",
       "      <td>4.000000</td>\n",
       "      <td>8.733333</td>\n",
       "      <td>15</td>\n",
       "      <td>26</td>\n",
       "      <td>Path Planner</td>\n",
       "      <td>12.733333</td>\n",
       "    </tr>\n",
       "    <tr>\n",
       "      <th>...</th>\n",
       "      <td>...</td>\n",
       "      <td>...</td>\n",
       "      <td>...</td>\n",
       "      <td>...</td>\n",
       "      <td>...</td>\n",
       "      <td>...</td>\n",
       "      <td>...</td>\n",
       "    </tr>\n",
       "    <tr>\n",
       "      <th>195</th>\n",
       "      <td>9.533333</td>\n",
       "      <td>2.266667</td>\n",
       "      <td>8.266667</td>\n",
       "      <td>15</td>\n",
       "      <td>23</td>\n",
       "      <td>Roles</td>\n",
       "      <td>10.533333</td>\n",
       "    </tr>\n",
       "    <tr>\n",
       "      <th>196</th>\n",
       "      <td>10.733333</td>\n",
       "      <td>2.733333</td>\n",
       "      <td>9.000000</td>\n",
       "      <td>15</td>\n",
       "      <td>25</td>\n",
       "      <td>Roles</td>\n",
       "      <td>11.733333</td>\n",
       "    </tr>\n",
       "    <tr>\n",
       "      <th>197</th>\n",
       "      <td>11.000000</td>\n",
       "      <td>2.533333</td>\n",
       "      <td>9.466667</td>\n",
       "      <td>15</td>\n",
       "      <td>21</td>\n",
       "      <td>Roles</td>\n",
       "      <td>12.000000</td>\n",
       "    </tr>\n",
       "    <tr>\n",
       "      <th>198</th>\n",
       "      <td>11.400000</td>\n",
       "      <td>3.266667</td>\n",
       "      <td>9.133333</td>\n",
       "      <td>15</td>\n",
       "      <td>33</td>\n",
       "      <td>Roles</td>\n",
       "      <td>12.400000</td>\n",
       "    </tr>\n",
       "    <tr>\n",
       "      <th>199</th>\n",
       "      <td>8.933333</td>\n",
       "      <td>2.266667</td>\n",
       "      <td>7.666667</td>\n",
       "      <td>15</td>\n",
       "      <td>24</td>\n",
       "      <td>Roles</td>\n",
       "      <td>9.933333</td>\n",
       "    </tr>\n",
       "  </tbody>\n",
       "</table>\n",
       "<p>200 rows × 7 columns</p>\n",
       "</div>"
      ],
      "text/plain": [
       "     taxi_distance  pick_up_time  drop_off_time  n_delivered  n_steps  \\\n",
       "0        12.466667      3.733333       8.600000           15       27   \n",
       "1        13.933333      3.866667       8.933333           15       30   \n",
       "2        13.600000      3.133333       8.866667           15       32   \n",
       "3        13.800000      3.533333       8.466667           15       23   \n",
       "4        13.400000      4.000000       8.733333           15       26   \n",
       "..             ...           ...            ...          ...      ...   \n",
       "195       9.533333      2.266667       8.266667           15       23   \n",
       "196      10.733333      2.733333       9.000000           15       25   \n",
       "197      11.000000      2.533333       9.466667           15       21   \n",
       "198      11.400000      3.266667       9.133333           15       33   \n",
       "199       8.933333      2.266667       7.666667           15       24   \n",
       "\n",
       "            agent  travel_time  \n",
       "0    Path Planner    12.333333  \n",
       "1    Path Planner    12.800000  \n",
       "2    Path Planner    12.000000  \n",
       "3    Path Planner    12.000000  \n",
       "4    Path Planner    12.733333  \n",
       "..            ...          ...  \n",
       "195         Roles    10.533333  \n",
       "196         Roles    11.733333  \n",
       "197         Roles    12.000000  \n",
       "198         Roles    12.400000  \n",
       "199         Roles     9.933333  \n",
       "\n",
       "[200 rows x 7 columns]"
      ]
     },
     "execution_count": 86,
     "metadata": {},
     "output_type": "execute_result"
    }
   ],
   "source": [
    "data_without_random = full_data[full_data[\"agent\"] != \"Random\"]\n",
    "data_without_random"
   ]
  },
  {
   "cell_type": "code",
   "execution_count": 87,
   "metadata": {},
   "outputs": [
    {
     "data": {
      "text/plain": [
       "Text(0, 0.5, 'Number of Steps')"
      ]
     },
     "execution_count": 87,
     "metadata": {},
     "output_type": "execute_result"
    },
    {
     "data": {
      "image/png": "[encoded data removed]",
      "text/plain": [
       "<Figure size 640x480 with 1 Axes>"
      ]
     },
     "metadata": {},
     "output_type": "display_data"
    }
   ],
   "source": [
    "ax = plt.gca()\n",
    "sns.barplot(x=\"agent\", y=\"n_steps\", ci=95, data=full_data, ax=ax)\n",
    "ax.set_title(\"Number of Steps to deliver all passengers by Agent Architecture\")\n",
    "ax.set_xlabel(\"Agent Architecture\")\n",
    "ax.set_ylabel(\"Number of Steps\")"
   ]
  },
  {
   "cell_type": "code",
   "execution_count": 88,
   "metadata": {},
   "outputs": [
    {
     "data": {
      "image/png": "[encoded data removed]",
      "text/plain": [
       "<Figure size 640x480 with 1 Axes>"
      ]
     },
     "metadata": {},
     "output_type": "display_data"
    }
   ],
   "source": [
    "ax = plt.gca()\n",
    "sns.barplot(x=\"agent\", y=\"taxi_distance\", ci=95, data=full_data, ax=ax)\n",
    "ax.set_title(\"Total Taxi Distance by Agent Architecture\")\n",
    "ax.set_xlabel(\"Agent Architecture\")\n",
    "ax.set_ylabel(\"Taxi Distance\")\n",
    "\n",
    "if save:\n",
    "    plt.savefig(\"taxi-distance.pdf\")"
   ]
  },
  {
   "cell_type": "code",
   "execution_count": 89,
   "metadata": {},
   "outputs": [
    {
     "data": {
      "text/plain": [
       "<AxesSubplot:xlabel='agent', ylabel='drop_off_time'>"
      ]
     },
     "execution_count": 89,
     "metadata": {},
     "output_type": "execute_result"
    },
    {
     "data": {
      "image/png": "[encoded data removed]",
      "text/plain": [
       "<Figure size 640x480 with 1 Axes>"
      ]
     },
     "metadata": {},
     "output_type": "display_data"
    }
   ],
   "source": [
    "sns.barplot(x=\"agent\", y=\"drop_off_time\", ci=95, data=full_data)"
   ]
  },
  {
   "cell_type": "code",
   "execution_count": 90,
   "metadata": {},
   "outputs": [
    {
     "data": {
      "text/plain": [
       "<seaborn.axisgrid.FacetGrid at 0x284eb8160>"
      ]
     },
     "execution_count": 90,
     "metadata": {},
     "output_type": "execute_result"
    },
    {
     "data": {
      "image/png": "[encoded data removed]",
      "text/plain": [
       "<Figure size 643.25x500 with 1 Axes>"
      ]
     },
     "metadata": {},
     "output_type": "display_data"
    }
   ],
   "source": [
    "sns.displot(data_without_random, x=\"drop_off_time\", hue=\"agent\")"
   ]
  },
  {
   "cell_type": "code",
   "execution_count": null,
   "metadata": {},
   "outputs": [],
   "source": []
  }
 ],
 "metadata": {
  "kernelspec": {
   "display_name": "Python 3.8.9 ('aasma-project')",
   "language": "python",
   "name": "python3"
  },
  "language_info": {
   "codemirror_mode": {
    "name": "ipython",
    "version": 3
   },
   "file_extension": ".py",
   "mimetype": "text/x-python",
   "name": "python",
   "nbconvert_exporter": "python",
   "pygments_lexer": "ipython3",
   "version": "3.8.9"
  },
  "orig_nbformat": 4,
  "vscode": {
   "interpreter": {
    "hash": "decb7ac69e1d517a31a591fe3d24ff79d0b539c269c4fb92bbe12203a19923a1"
   }
  }
 },
 "nbformat": 4,
 "nbformat_minor": 2
}
